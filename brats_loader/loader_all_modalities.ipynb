{
 "cells": [
  {
   "cell_type": "code",
   "execution_count": 6,
   "id": "cd466232",
   "metadata": {},
   "outputs": [],
   "source": [
    "import glob\n",
    "# brats_datapath = '/srv/Data/playground_data/brats/brats_training_data/data_raw/**/**_seg.nii'\n",
    "mod_list = ['seg', 'flair', 't1', 't2', 't1ce']\n",
    "# path = glob.glob(brats_datapath)\n",
    "# path.sort()\n",
    "# path = path[7]\n",
    "# # print(path)\n",
    "\n",
    "def comb_path(path):\n",
    "    dict_ = {}\n",
    "    for itr_ in mod_list:\n",
    "        uniq_ = path.split('/')[-1].split('_')\n",
    "        a= \"/\".join(path.split('/')[0:-1])\n",
    "        b = '_'.join(uniq_[0:-1])\n",
    "        c = '/'.join([a,b])\n",
    "        itr__ = itr_+'.nii'\n",
    "        d ='_'.join([c,itr__])\n",
    "        dict_.update({itr_:d})\n",
    "        \n",
    "    return dict_\n",
    "        \n",
    "        \n",
    "\n"
   ]
  },
  {
   "cell_type": "code",
   "execution_count": 2,
   "id": "d0b38776",
   "metadata": {},
   "outputs": [
    {
     "name": "stderr",
     "output_type": "stream",
     "text": [
      "/home/arunima/.local/lib/python3.8/site-packages/monai/utils/deprecate_utils.py:107: FutureWarning: <class 'monai.transforms.utility.array.AddChannel'>: Class `AddChannel` has been deprecated since version 0.8. please use MetaTensor data type and monai.transforms.EnsureChannelFirst instead.\n",
      "  warn_deprecated(obj, msg, warning_category)\n"
     ]
    }
   ],
   "source": [
    "import sys\n",
    "import glob\n",
    "import torch\n",
    "from monai.transforms import (\n",
    "    Orientationd, AddChanneld, Compose, ToTensord, Spacingd,Resized,ScaleIntensityD,ResizeWithPadOrCropd\n",
    "    # ScaleIntensityD, ScaleIntensityRangeD, AdjustContrastD, RandAffined, ToNumpyd,RepeatChannelD\n",
    ")\n",
    "# ['image_flair','image_t1','image_t2','image_t1ce','label']\n",
    "import slice_data_h5 as sdl_h5\n",
    "transforms1 = Compose(\n",
    "    [\n",
    "     AddChanneld(('image_flair','image_t1','image_t2','image_t1ce','label')),\n",
    "     Orientationd(('image_flair','image_t1','image_t2','image_t1ce','label'),'RAS'),\n",
    "#      Spacingd(('image','label'),(1,1,1)),        \n",
    "     Resized(keys = ('image_flair','image_t1','image_t2','image_t1ce'),spatial_size = (128, 128,-1),mode = 'trilinear' ,align_corners = True),\n",
    "     Resized(keys = ('label'),spatial_size = (128, 128,-1),mode = 'nearest' ),\n",
    "     ScaleIntensityD(('image_flair','image_t1','image_t2','image_t1ce',)),\n",
    "     ToTensord(('image_flair','image_t1','image_t2','image_t1ce','label')),\n",
    "    ]\n",
    ")\n",
    "\n"
   ]
  },
  {
   "cell_type": "code",
   "execution_count": 28,
   "id": "a76a8d1a",
   "metadata": {},
   "outputs": [],
   "source": [
    "import os\n",
    "import glob\n",
    "import numpy as np\n",
    "import torch\n",
    "from tqdm.notebook import tqdm\n",
    "from monai.data import ITKReader,NibabelReader\n",
    "from monai.transforms import LoadImage, LoadImaged\n",
    "from monai.transforms import (\n",
    "    Orientationd, AddChanneld, Compose, ToTensord, Spacingd,Resized,ScaleIntensityD,ResizeWithPadOrCropd\n",
    "    # ScaleIntensityD, ScaleIntensityRangeD, AdjustContrastD, RandAffined, ToNumpyd,RepeatChannelD\n",
    ")\n",
    "from monai.data import Dataset\n",
    "import h5py\n",
    "import threading\n",
    "\n",
    "        \n",
    "    \n",
    "class H5CachedDataset(Dataset):\n",
    "    def __init__(self, niilist,\n",
    "                 transforms_offline, transforms_online=ToTensord(('image',)),\n",
    "                 nslices_per_image = 155 ,\n",
    "                 start_slice = 10,\n",
    "                 end_slice = 10,\n",
    "                 h5cachedir=None):\n",
    "       #         self.lock = threading.Lock()\n",
    "        if h5cachedir is not None:\n",
    "            if not os.path.exists(h5cachedir):\n",
    "                os.mkdir(h5cachedir)\n",
    "            self.cachedir = h5cachedir\n",
    "\n",
    "        self.datalist = niilist\n",
    "#         print(self.datalist)\n",
    "#         self.masklist = masklist\n",
    "#         print(f'length of datalist {len(niilist)}')\n",
    "#         print(f'length of masklist {len(masklist)}')\n",
    "\n",
    "        self.xfms = transforms_offline\n",
    "        self.xfms2 = transforms_online\n",
    "        \n",
    "        #### 3d image loader from monai\n",
    "        \n",
    "        self.loader = LoadImage()\n",
    "        self.loader.register(NibabelReader())  \n",
    "        #### start_slice & end_slice---> slices to be truncated in each volume vol[:,:,start_slice:-end_slice]\n",
    "        \n",
    "        self.start_slice = start_slice\n",
    "        self.end_slice = end_slice\n",
    "        \n",
    "        self.nslices = nslices_per_image - self.end_slice\n",
    "#         print(self.nslices)\n",
    "        \n",
    "    def __len__(self):\n",
    "        #### total number of slices in all the volumes\n",
    "        return len(self.datalist)*(self.nslices - self.start_slice)\n",
    "    \n",
    "    def clear_cache(self):\n",
    "        #### function to clear the directory storing h5 files (used for caching the h5 files)\n",
    "        for fn in os.listdir(self.cachedir):\n",
    "            os.remove(self.cachedir+'/'+fn)\n",
    "            \n",
    "    def __getitem__(self,index):\n",
    "        #### ditionary to store data slicewise\n",
    "        data = {}\n",
    "#         print(\"index\",index)\n",
    "#        \n",
    "        filenum = index // (self.nslices - self.start_slice)\n",
    "#         print(index)\n",
    "\n",
    "        slicenum = index % (self.nslices - self.start_slice)\n",
    "\n",
    "        slicenum += self.start_slice\n",
    "        \n",
    "        #### Extract the datafile location & mask file location based on filenum\n",
    "        datalist_filenum = self.datalist[filenum]\n",
    "#         'flair', 't1', 't2', 't1ce','seg'\n",
    "        loc_data_flair = datalist_filenum['flair']###path to image\n",
    "        loc_data_t1 = datalist_filenum['t1']\n",
    "        loc_data_t2 = datalist_filenum['t2']\n",
    "        loc_data_t1ce = datalist_filenum['t1ce']\n",
    "        loc_mask = datalist_filenum['seg'] ### path to label\n",
    "        \n",
    "        \n",
    "\n",
    "\n",
    "        ##### if h5 exists for the current volume fill data dictionary with current slice number\n",
    "        if self.cachedir is not None:\n",
    "            h5name = self.cachedir+'/%d.h5' % filenum\n",
    "#             print(h5name)\n",
    "            ptname = self.cachedir+'/%d.pt' % filenum\n",
    "\n",
    "            if os.path.exists(h5name):\n",
    "                \n",
    "                with h5py.File(h5name,'r',libver='latest', swmr=True) as itm:\n",
    "                    for key in itm.keys():                       \n",
    "                        data[key]=torch.from_numpy(itm[key][:,:,:,slicenum])\n",
    "                data['image_meta_dict']={'affine':np.eye(3)} # FIXME: loses spacing info - can read from pt file\n",
    "\n",
    "\n",
    "        ##### if data dictionary is empty\n",
    "        if len(data)==0:\n",
    "            #### Read image & mask data, meta data\n",
    "            imgdata_flair, meta_flair = self.loader(loc_data_flair) \n",
    "            imgdata_t1, meta_t1 = self.loader(loc_data_t1) \n",
    "            imgdata_t2, meta_t2 = self.loader(loc_data_t2) \n",
    "            imgdata_t1ce, meta_t1ce = self.loader(loc_data_t1ce) \n",
    "            \n",
    "            mask_data, mask_meta = self.loader(loc_mask)\n",
    "            \n",
    "            #### store volume wise image & mask data,metadata in a dictionary \n",
    "            data_i = {'image_flair':imgdata_flair,\\\n",
    "                      'image_t1':imgdata_t1,\\\n",
    "                      'image_t2':imgdata_t2,\\\n",
    "                      'image_t1ce':imgdata_t1ce,\\\n",
    "                      'label':mask_data,\\\n",
    "                      'flair_meta_dict':meta_flair, \\\n",
    "                      't1_meta_dict':meta_t1, \\\n",
    "                      't1ce_meta_dict':meta_t1ce, \\\n",
    "                      't2_meta_dict':meta_t2, \\\n",
    "                      'label_meta_dict':mask_meta\\\n",
    "                     }\n",
    "#             print(imgdata.shape) (240*240*155)\n",
    "            #### transform the data dictionary\n",
    "            data3d = self.xfms(data_i)\n",
    "#             print(data3d['image'].shape)\n",
    "            #### Create h5 file for the volume by chunking into the slice shape for data & mask \n",
    "            #### Create a .pt file for meta data\n",
    "            if self.cachedir is not None:\n",
    "                other = {}\n",
    "\n",
    "                with h5py.File(h5name,'w',libver='latest') as itm:\n",
    "                    itm.swmr_mode = True\n",
    "                    for key in data3d:\n",
    "                        if key in ['image_flair','image_t1','image_t2','image_t1ce','label']:                             \n",
    "                            img_npy = data3d[key].numpy()\n",
    "                            if key == 'label':\n",
    "                                img_npy = (img_npy>0).astype('uint8')\n",
    "                            shp = img_npy.shape\n",
    "                            \n",
    "                            chunk_size = list(shp[:-1])+[1]\n",
    "#                             print(chunk_size)\n",
    "                            ds = itm.create_dataset(key,shp,chunks=tuple(chunk_size),dtype=img_npy.dtype)\n",
    "                            ds[:]=img_npy[:]\n",
    "#                             print('ds shape',ds.shape)\n",
    "                            ds.flush()\n",
    "                    else:\n",
    "                        other[key]=data3d[key]\n",
    "                torch.save(other,ptname)\n",
    "\n",
    "\n",
    "            #### fill the data dictionary\n",
    "#             print(f'slicenum {slicenum}')\n",
    "#             print(f'filenum {filenum}')\n",
    "#             ['image_flair','image_t1','image_t2','image_t1ce','label']\n",
    "            data = {\n",
    "                'image_flair':data3d['image_flair'][:,:,:,slicenum],\n",
    "                'image_t1':data3d['image_t1'][:,:,:,slicenum],\n",
    "                'image_t2':data3d['image_t2'][:,:,:,slicenum],\n",
    "                'image_t1ce':data3d['image_t1ce'][:,:,:,slicenum],\n",
    "                'label':data3d['label'][:,:,:,slicenum],\n",
    "                'image_meta_dict':{\n",
    "                    'affine':np.eye(3)\n",
    "                }\n",
    "            }\n",
    "\n",
    "            \n",
    "        if len(data)>0:\n",
    "#             print(\"**\",data.keys())\n",
    "#             res = self.xfms2(data)\n",
    "            res = data\n",
    "            res['image_flair']=res['image_flair'].float()\n",
    "            res['image_t1']=res['image_t1'].float()\n",
    "            res['image_t2']=res['image_t2'].float()\n",
    "            res['image_t1ce']=res['image_t1ce'].float()\n",
    "            \n",
    "            res['label']=res['label'].to(torch.int64)\n",
    "            res['filenum'] = filenum\n",
    "            res['slicenum'] = slicenum\n",
    "            res['idx'] = index\n",
    "            return res\n",
    "\n",
    "        else:\n",
    "            # replace with random\n",
    "            return self.__getitem__(np.random.randint(len(self.datalist)))\n"
   ]
  },
  {
   "cell_type": "code",
   "execution_count": 29,
   "id": "8a1afec7",
   "metadata": {},
   "outputs": [],
   "source": [
    "brats_datapath = '/srv/Data/playground_data/brats/brats_training_data/data_raw/**/**_seg.nii'\n",
    "# brats_mask = '/srv/Data/playground_data/brats/brats_training_data/data_raw/**/**_seg.nii'\n",
    "datalist = []\n",
    "for x in glob.glob(brats_datapath):\n",
    "\n",
    "    datalist.append(comb_path(x))\n",
    "    \n",
    "h5cachedir_ = '/srv/Data/playground_data/brats/brats_training_data/h5_data_new'  \n",
    "# datalist = {'image': '/srv/Data/playground_data/brats/brats_training_data/data_raw/BraTS20_Training_126/BraTS20_Training_126_flair.nii'}\n",
    "h5cacheds = H5CachedDataset(datalist,transforms1,h5cachedir=h5cachedir_)\n",
    "torch.multiprocessing.set_sharing_strategy('file_system')\n",
    "brats_loader = torch.utils.data.DataLoader(h5cacheds,batch_size = 5 ,\\\n",
    "                                           shuffle = True ,num_workers= 1)# ,pin_memory = True)\n"
   ]
  },
  {
   "cell_type": "code",
   "execution_count": null,
   "id": "c3dfdd52",
   "metadata": {},
   "outputs": [],
   "source": []
  },
  {
   "cell_type": "code",
   "execution_count": null,
   "id": "641f777e",
   "metadata": {},
   "outputs": [],
   "source": []
  },
  {
   "cell_type": "code",
   "execution_count": null,
   "id": "37d03367",
   "metadata": {},
   "outputs": [],
   "source": []
  },
  {
   "cell_type": "code",
   "execution_count": null,
   "id": "06325d9e",
   "metadata": {},
   "outputs": [],
   "source": []
  },
  {
   "cell_type": "code",
   "execution_count": null,
   "id": "55edb3b1",
   "metadata": {},
   "outputs": [],
   "source": []
  },
  {
   "cell_type": "code",
   "execution_count": 26,
   "id": "f48718ab",
   "metadata": {},
   "outputs": [],
   "source": [
    "brats_datapath = '/srv/Data/playground_data/brats/brats_training_data/data_raw/**/**_seg.nii'\n",
    "# brats_mask = '/srv/Data/playground_data/brats/brats_training_data/data_raw/**/**_seg.nii'\n",
    "datalist = []\n",
    "for x in glob.glob(brats_datapath):\n",
    "\n",
    "    datalist.append(comb_path(x))\n",
    "        \n",
    "# h5cachedir_ = '/srv/Data/playground_data/brats/brats_training_data/h5_data'  \n",
    "# # datalist = {'image': '/srv/Data/playground_data/brats/brats_training_data/data_raw/BraTS20_Training_126/BraTS20_Training_126_flair.nii'}\n",
    "# h5cacheds = H5CachedDataset(datalist,masklist,transforms1,h5cachedir=h5cachedir_)\n",
    "# torch.multiprocessing.set_sharing_strategy('file_system')\n",
    "# brats_loader = torch.utils.data.DataLoader(h5cacheds,batch_size = 5 ,\\\n",
    "#                                            shuffle = False,num_workers= 1)# ,pin_memory = True)\n"
   ]
  },
  {
   "cell_type": "code",
   "execution_count": 54,
   "id": "ffdb9179",
   "metadata": {},
   "outputs": [],
   "source": [
    "# datalist[0]"
   ]
  },
  {
   "cell_type": "code",
   "execution_count": 53,
   "id": "2b820b30",
   "metadata": {},
   "outputs": [],
   "source": [
    "# mod_list"
   ]
  },
  {
   "cell_type": "code",
   "execution_count": 23,
   "id": "b3876a77",
   "metadata": {},
   "outputs": [
    {
     "data": {
      "text/plain": [
       "369"
      ]
     },
     "execution_count": 23,
     "metadata": {},
     "output_type": "execute_result"
    }
   ],
   "source": [
    "len(datalist)"
   ]
  },
  {
   "cell_type": "code",
   "execution_count": 30,
   "id": "11292e19",
   "metadata": {},
   "outputs": [
    {
     "name": "stderr",
     "output_type": "stream",
     "text": [
      "  0%|                                                                               | 1/9963 [00:04<12:42:38,  4.59s/it]"
     ]
    },
    {
     "name": "stdout",
     "output_type": "stream",
     "text": [
      "(5, 1, 128, 128)\n"
     ]
    },
    {
     "name": "stderr",
     "output_type": "stream",
     "text": [
      "\r",
      "  0%|                                                                                | 2/9963 [00:06<7:33:20,  2.73s/it]"
     ]
    },
    {
     "name": "stdout",
     "output_type": "stream",
     "text": [
      "(5, 1, 128, 128)\n"
     ]
    },
    {
     "name": "stderr",
     "output_type": "stream",
     "text": [
      "\r",
      "  0%|                                                                                | 3/9963 [00:07<5:49:07,  2.10s/it]"
     ]
    },
    {
     "name": "stdout",
     "output_type": "stream",
     "text": [
      "(5, 1, 128, 128)\n"
     ]
    },
    {
     "name": "stderr",
     "output_type": "stream",
     "text": [
      "\r",
      "  0%|                                                                                | 4/9963 [00:12<8:39:53,  3.13s/it]"
     ]
    },
    {
     "name": "stdout",
     "output_type": "stream",
     "text": [
      "(5, 1, 128, 128)\n"
     ]
    },
    {
     "name": "stderr",
     "output_type": "stream",
     "text": [
      "\r",
      "  0%|                                                                                | 5/9963 [00:13<6:54:55,  2.50s/it]"
     ]
    },
    {
     "name": "stdout",
     "output_type": "stream",
     "text": [
      "(5, 1, 128, 128)\n"
     ]
    },
    {
     "name": "stderr",
     "output_type": "stream",
     "text": [
      "\r",
      "  0%|                                                                                | 6/9963 [00:15<6:38:02,  2.40s/it]"
     ]
    },
    {
     "name": "stdout",
     "output_type": "stream",
     "text": [
      "(5, 1, 128, 128)\n"
     ]
    },
    {
     "name": "stderr",
     "output_type": "stream",
     "text": [
      "\r",
      "  0%|                                                                                | 7/9963 [00:20<8:51:03,  3.20s/it]"
     ]
    },
    {
     "name": "stdout",
     "output_type": "stream",
     "text": [
      "(5, 1, 128, 128)\n"
     ]
    },
    {
     "name": "stderr",
     "output_type": "stream",
     "text": [
      "\r",
      "  0%|                                                                                | 8/9963 [00:23<8:51:20,  3.20s/it]"
     ]
    },
    {
     "name": "stdout",
     "output_type": "stream",
     "text": [
      "(5, 1, 128, 128)\n"
     ]
    },
    {
     "name": "stderr",
     "output_type": "stream",
     "text": [
      "\r",
      "  0%|                                                                                | 9/9963 [00:27<9:23:40,  3.40s/it]"
     ]
    },
    {
     "name": "stdout",
     "output_type": "stream",
     "text": [
      "(5, 1, 128, 128)\n"
     ]
    },
    {
     "name": "stderr",
     "output_type": "stream",
     "text": [
      "\r",
      "  0%|                                                                               | 10/9963 [00:30<8:41:31,  3.14s/it]"
     ]
    },
    {
     "name": "stdout",
     "output_type": "stream",
     "text": [
      "(5, 1, 128, 128)\n"
     ]
    },
    {
     "name": "stderr",
     "output_type": "stream",
     "text": [
      "\r",
      "  0%|                                                                              | 11/9963 [00:36<11:33:12,  4.18s/it]"
     ]
    },
    {
     "name": "stdout",
     "output_type": "stream",
     "text": [
      "(5, 1, 128, 128)\n"
     ]
    },
    {
     "name": "stderr",
     "output_type": "stream",
     "text": [
      "\r",
      "  0%|                                                                               | 12/9963 [00:37<9:08:42,  3.31s/it]"
     ]
    },
    {
     "name": "stdout",
     "output_type": "stream",
     "text": [
      "(5, 1, 128, 128)\n"
     ]
    },
    {
     "name": "stderr",
     "output_type": "stream",
     "text": [
      "\r",
      "  0%|                                                                               | 13/9963 [00:39<7:28:02,  2.70s/it]"
     ]
    },
    {
     "name": "stdout",
     "output_type": "stream",
     "text": [
      "(5, 1, 128, 128)\n",
      "torch.Size([5, 1, 128, 128])\n"
     ]
    },
    {
     "name": "stderr",
     "output_type": "stream",
     "text": [
      "\r",
      "  0%|                                                                               | 15/9963 [00:43<6:31:25,  2.36s/it]"
     ]
    },
    {
     "name": "stdout",
     "output_type": "stream",
     "text": [
      "(5, 1, 128, 128)\n"
     ]
    },
    {
     "name": "stderr",
     "output_type": "stream",
     "text": [
      "\r",
      "  0%|▏                                                                              | 16/9963 [00:47<7:37:37,  2.76s/it]"
     ]
    },
    {
     "name": "stdout",
     "output_type": "stream",
     "text": [
      "(5, 1, 128, 128)\n"
     ]
    },
    {
     "name": "stderr",
     "output_type": "stream",
     "text": [
      "\r",
      "  0%|▏                                                                              | 17/9963 [00:48<6:36:42,  2.39s/it]"
     ]
    },
    {
     "name": "stdout",
     "output_type": "stream",
     "text": [
      "(5, 1, 128, 128)\n"
     ]
    },
    {
     "name": "stderr",
     "output_type": "stream",
     "text": [
      "\r",
      "  0%|▏                                                                              | 18/9963 [00:52<7:32:21,  2.73s/it]"
     ]
    },
    {
     "name": "stdout",
     "output_type": "stream",
     "text": [
      "(5, 1, 128, 128)\n"
     ]
    },
    {
     "name": "stderr",
     "output_type": "stream",
     "text": [
      "\r",
      "  0%|▏                                                                              | 19/9963 [00:54<7:32:45,  2.73s/it]"
     ]
    },
    {
     "name": "stdout",
     "output_type": "stream",
     "text": [
      "(5, 1, 128, 128)\n"
     ]
    },
    {
     "name": "stderr",
     "output_type": "stream",
     "text": [
      "\r",
      "  0%|▏                                                                             | 20/9963 [01:03<12:07:42,  4.39s/it]"
     ]
    },
    {
     "name": "stdout",
     "output_type": "stream",
     "text": [
      "(5, 1, 128, 128)\n"
     ]
    },
    {
     "name": "stderr",
     "output_type": "stream",
     "text": [
      "\r",
      "  0%|▏                                                                              | 21/9963 [01:04<9:40:50,  3.51s/it]"
     ]
    },
    {
     "name": "stdout",
     "output_type": "stream",
     "text": [
      "(5, 1, 128, 128)\n"
     ]
    },
    {
     "name": "stderr",
     "output_type": "stream",
     "text": [
      "\r",
      "  0%|▏                                                                              | 22/9963 [01:08<9:40:38,  3.50s/it]"
     ]
    },
    {
     "name": "stdout",
     "output_type": "stream",
     "text": [
      "(5, 1, 128, 128)\n"
     ]
    },
    {
     "name": "stderr",
     "output_type": "stream",
     "text": [
      "\r",
      "  0%|▏                                                                              | 23/9963 [01:09<8:11:06,  2.96s/it]"
     ]
    },
    {
     "name": "stdout",
     "output_type": "stream",
     "text": [
      "(5, 1, 128, 128)\n"
     ]
    },
    {
     "name": "stderr",
     "output_type": "stream",
     "text": [
      "\r",
      "  0%|▏                                                                              | 24/9963 [01:14<9:22:40,  3.40s/it]"
     ]
    },
    {
     "name": "stdout",
     "output_type": "stream",
     "text": [
      "(5, 1, 128, 128)\n"
     ]
    },
    {
     "name": "stderr",
     "output_type": "stream",
     "text": [
      "\r",
      "  0%|▏                                                                              | 25/9963 [01:16<8:39:54,  3.14s/it]"
     ]
    },
    {
     "name": "stdout",
     "output_type": "stream",
     "text": [
      "(5, 1, 128, 128)\n"
     ]
    },
    {
     "name": "stderr",
     "output_type": "stream",
     "text": [
      "\r",
      "  0%|▏                                                                              | 26/9963 [01:18<7:09:51,  2.60s/it]"
     ]
    },
    {
     "name": "stdout",
     "output_type": "stream",
     "text": [
      "(5, 1, 128, 128)\n"
     ]
    },
    {
     "name": "stderr",
     "output_type": "stream",
     "text": [
      "\r",
      "  0%|▏                                                                              | 27/9963 [01:22<8:48:46,  3.19s/it]"
     ]
    },
    {
     "name": "stdout",
     "output_type": "stream",
     "text": [
      "(5, 1, 128, 128)\n"
     ]
    },
    {
     "name": "stderr",
     "output_type": "stream",
     "text": [
      "\r",
      "  0%|▏                                                                              | 28/9963 [01:25<8:45:19,  3.17s/it]"
     ]
    },
    {
     "name": "stdout",
     "output_type": "stream",
     "text": [
      "(5, 1, 128, 128)\n"
     ]
    },
    {
     "name": "stderr",
     "output_type": "stream",
     "text": [
      "\r",
      "  0%|▏                                                                              | 29/9963 [01:28<8:25:49,  3.06s/it]"
     ]
    },
    {
     "name": "stdout",
     "output_type": "stream",
     "text": [
      "(5, 1, 128, 128)\n"
     ]
    },
    {
     "name": "stderr",
     "output_type": "stream",
     "text": [
      "\r",
      "  0%|▏                                                                              | 30/9963 [01:30<6:59:06,  2.53s/it]"
     ]
    },
    {
     "name": "stdout",
     "output_type": "stream",
     "text": [
      "(5, 1, 128, 128)\n"
     ]
    },
    {
     "name": "stderr",
     "output_type": "stream",
     "text": [
      "\r",
      "  0%|▏                                                                              | 31/9963 [01:35<9:26:41,  3.42s/it]"
     ]
    },
    {
     "name": "stdout",
     "output_type": "stream",
     "text": [
      "(5, 1, 128, 128)\n"
     ]
    },
    {
     "name": "stderr",
     "output_type": "stream",
     "text": [
      "\r",
      "  0%|▎                                                                              | 32/9963 [01:37<8:03:13,  2.92s/it]"
     ]
    },
    {
     "name": "stdout",
     "output_type": "stream",
     "text": [
      "(5, 1, 128, 128)\n"
     ]
    },
    {
     "name": "stderr",
     "output_type": "stream",
     "text": [
      "\r",
      "  0%|▎                                                                              | 33/9963 [01:41<8:58:54,  3.26s/it]"
     ]
    },
    {
     "name": "stdout",
     "output_type": "stream",
     "text": [
      "(5, 1, 128, 128)\n"
     ]
    },
    {
     "name": "stderr",
     "output_type": "stream",
     "text": [
      "\r",
      "  0%|▎                                                                              | 34/9963 [01:45<9:56:04,  3.60s/it]"
     ]
    },
    {
     "name": "stdout",
     "output_type": "stream",
     "text": [
      "(5, 1, 128, 128)\n"
     ]
    },
    {
     "name": "stderr",
     "output_type": "stream",
     "text": [
      "\r",
      "  0%|▎                                                                              | 35/9963 [01:49<9:51:23,  3.57s/it]"
     ]
    },
    {
     "name": "stdout",
     "output_type": "stream",
     "text": [
      "(5, 1, 128, 128)\n"
     ]
    },
    {
     "name": "stderr",
     "output_type": "stream",
     "text": [
      "\r",
      "  0%|▎                                                                              | 36/9963 [01:50<8:05:31,  2.93s/it]"
     ]
    },
    {
     "name": "stdout",
     "output_type": "stream",
     "text": [
      "(5, 1, 128, 128)\n",
      "torch.Size([5, 1, 128, 128])\n",
      "torch.Size([5, 1, 128, 128])\n"
     ]
    },
    {
     "name": "stderr",
     "output_type": "stream",
     "text": [
      "\r",
      "  0%|▎                                                                              | 39/9963 [01:51<4:12:06,  1.52s/it]"
     ]
    },
    {
     "name": "stdout",
     "output_type": "stream",
     "text": [
      "(5, 1, 128, 128)\n"
     ]
    },
    {
     "name": "stderr",
     "output_type": "stream",
     "text": [
      "\r",
      "  0%|▎                                                                              | 40/9963 [01:53<4:03:48,  1.47s/it]"
     ]
    },
    {
     "name": "stdout",
     "output_type": "stream",
     "text": [
      "(5, 1, 128, 128)\n"
     ]
    },
    {
     "name": "stderr",
     "output_type": "stream",
     "text": [
      "  0%|▎                                                                              | 40/9963 [01:53<7:50:01,  2.84s/it]\n"
     ]
    },
    {
     "ename": "KeyboardInterrupt",
     "evalue": "",
     "output_type": "error",
     "traceback": [
      "\u001b[0;31m---------------------------------------------------------------------------\u001b[0m",
      "\u001b[0;31mKeyboardInterrupt\u001b[0m                         Traceback (most recent call last)",
      "Input \u001b[0;32mIn [30]\u001b[0m, in \u001b[0;36m<cell line: 3>\u001b[0;34m()\u001b[0m\n\u001b[1;32m      1\u001b[0m \u001b[38;5;28;01mimport\u001b[39;00m \u001b[38;5;21;01mtqdm\u001b[39;00m \n\u001b[1;32m      2\u001b[0m \u001b[38;5;28;01mimport\u001b[39;00m \u001b[38;5;21;01mmatplotlib\u001b[39;00m\u001b[38;5;21;01m.\u001b[39;00m\u001b[38;5;21;01mpyplot\u001b[39;00m \u001b[38;5;28;01mas\u001b[39;00m \u001b[38;5;21;01mplt\u001b[39;00m\n\u001b[0;32m----> 3\u001b[0m \u001b[38;5;28;01mfor\u001b[39;00m idx, data \u001b[38;5;129;01min\u001b[39;00m \u001b[38;5;28menumerate\u001b[39m(tqdm\u001b[38;5;241m.\u001b[39mtqdm(brats_loader)):\n\u001b[1;32m      4\u001b[0m     \u001b[38;5;28mprint\u001b[39m(data[\u001b[38;5;124m'\u001b[39m\u001b[38;5;124mimage_flair\u001b[39m\u001b[38;5;124m'\u001b[39m]\u001b[38;5;241m.\u001b[39mshape)\n",
      "File \u001b[0;32m~/.local/lib/python3.8/site-packages/tqdm/std.py:1195\u001b[0m, in \u001b[0;36mtqdm.__iter__\u001b[0;34m(self)\u001b[0m\n\u001b[1;32m   1192\u001b[0m time \u001b[38;5;241m=\u001b[39m \u001b[38;5;28mself\u001b[39m\u001b[38;5;241m.\u001b[39m_time\n\u001b[1;32m   1194\u001b[0m \u001b[38;5;28;01mtry\u001b[39;00m:\n\u001b[0;32m-> 1195\u001b[0m     \u001b[38;5;28;01mfor\u001b[39;00m obj \u001b[38;5;129;01min\u001b[39;00m iterable:\n\u001b[1;32m   1196\u001b[0m         \u001b[38;5;28;01myield\u001b[39;00m obj\n\u001b[1;32m   1197\u001b[0m         \u001b[38;5;66m# Update and possibly print the progressbar.\u001b[39m\n\u001b[1;32m   1198\u001b[0m         \u001b[38;5;66m# Note: does not call self.update(1) for speed optimisation.\u001b[39m\n",
      "File \u001b[0;32m~/.local/lib/python3.8/site-packages/torch/utils/data/dataloader.py:517\u001b[0m, in \u001b[0;36m_BaseDataLoaderIter.__next__\u001b[0;34m(self)\u001b[0m\n\u001b[1;32m    515\u001b[0m \u001b[38;5;28;01mif\u001b[39;00m \u001b[38;5;28mself\u001b[39m\u001b[38;5;241m.\u001b[39m_sampler_iter \u001b[38;5;129;01mis\u001b[39;00m \u001b[38;5;28;01mNone\u001b[39;00m:\n\u001b[1;32m    516\u001b[0m     \u001b[38;5;28mself\u001b[39m\u001b[38;5;241m.\u001b[39m_reset()\n\u001b[0;32m--> 517\u001b[0m data \u001b[38;5;241m=\u001b[39m \u001b[38;5;28;43mself\u001b[39;49m\u001b[38;5;241;43m.\u001b[39;49m\u001b[43m_next_data\u001b[49m\u001b[43m(\u001b[49m\u001b[43m)\u001b[49m\n\u001b[1;32m    518\u001b[0m \u001b[38;5;28mself\u001b[39m\u001b[38;5;241m.\u001b[39m_num_yielded \u001b[38;5;241m+\u001b[39m\u001b[38;5;241m=\u001b[39m \u001b[38;5;241m1\u001b[39m\n\u001b[1;32m    519\u001b[0m \u001b[38;5;28;01mif\u001b[39;00m \u001b[38;5;28mself\u001b[39m\u001b[38;5;241m.\u001b[39m_dataset_kind \u001b[38;5;241m==\u001b[39m _DatasetKind\u001b[38;5;241m.\u001b[39mIterable \u001b[38;5;129;01mand\u001b[39;00m \\\n\u001b[1;32m    520\u001b[0m         \u001b[38;5;28mself\u001b[39m\u001b[38;5;241m.\u001b[39m_IterableDataset_len_called \u001b[38;5;129;01mis\u001b[39;00m \u001b[38;5;129;01mnot\u001b[39;00m \u001b[38;5;28;01mNone\u001b[39;00m \u001b[38;5;129;01mand\u001b[39;00m \\\n\u001b[1;32m    521\u001b[0m         \u001b[38;5;28mself\u001b[39m\u001b[38;5;241m.\u001b[39m_num_yielded \u001b[38;5;241m>\u001b[39m \u001b[38;5;28mself\u001b[39m\u001b[38;5;241m.\u001b[39m_IterableDataset_len_called:\n",
      "File \u001b[0;32m~/.local/lib/python3.8/site-packages/torch/utils/data/dataloader.py:1182\u001b[0m, in \u001b[0;36m_MultiProcessingDataLoaderIter._next_data\u001b[0;34m(self)\u001b[0m\n\u001b[1;32m   1179\u001b[0m     \u001b[38;5;28;01mreturn\u001b[39;00m \u001b[38;5;28mself\u001b[39m\u001b[38;5;241m.\u001b[39m_process_data(data)\n\u001b[1;32m   1181\u001b[0m \u001b[38;5;28;01massert\u001b[39;00m \u001b[38;5;129;01mnot\u001b[39;00m \u001b[38;5;28mself\u001b[39m\u001b[38;5;241m.\u001b[39m_shutdown \u001b[38;5;129;01mand\u001b[39;00m \u001b[38;5;28mself\u001b[39m\u001b[38;5;241m.\u001b[39m_tasks_outstanding \u001b[38;5;241m>\u001b[39m \u001b[38;5;241m0\u001b[39m\n\u001b[0;32m-> 1182\u001b[0m idx, data \u001b[38;5;241m=\u001b[39m \u001b[38;5;28;43mself\u001b[39;49m\u001b[38;5;241;43m.\u001b[39;49m\u001b[43m_get_data\u001b[49m\u001b[43m(\u001b[49m\u001b[43m)\u001b[49m\n\u001b[1;32m   1183\u001b[0m \u001b[38;5;28mself\u001b[39m\u001b[38;5;241m.\u001b[39m_tasks_outstanding \u001b[38;5;241m-\u001b[39m\u001b[38;5;241m=\u001b[39m \u001b[38;5;241m1\u001b[39m\n\u001b[1;32m   1184\u001b[0m \u001b[38;5;28;01mif\u001b[39;00m \u001b[38;5;28mself\u001b[39m\u001b[38;5;241m.\u001b[39m_dataset_kind \u001b[38;5;241m==\u001b[39m _DatasetKind\u001b[38;5;241m.\u001b[39mIterable:\n\u001b[1;32m   1185\u001b[0m     \u001b[38;5;66m# Check for _IterableDatasetStopIteration\u001b[39m\n",
      "File \u001b[0;32m~/.local/lib/python3.8/site-packages/torch/utils/data/dataloader.py:1148\u001b[0m, in \u001b[0;36m_MultiProcessingDataLoaderIter._get_data\u001b[0;34m(self)\u001b[0m\n\u001b[1;32m   1144\u001b[0m     \u001b[38;5;66m# In this case, `self._data_queue` is a `queue.Queue`,. But we don't\u001b[39m\n\u001b[1;32m   1145\u001b[0m     \u001b[38;5;66m# need to call `.task_done()` because we don't use `.join()`.\u001b[39m\n\u001b[1;32m   1146\u001b[0m \u001b[38;5;28;01melse\u001b[39;00m:\n\u001b[1;32m   1147\u001b[0m     \u001b[38;5;28;01mwhile\u001b[39;00m \u001b[38;5;28;01mTrue\u001b[39;00m:\n\u001b[0;32m-> 1148\u001b[0m         success, data \u001b[38;5;241m=\u001b[39m \u001b[38;5;28;43mself\u001b[39;49m\u001b[38;5;241;43m.\u001b[39;49m\u001b[43m_try_get_data\u001b[49m\u001b[43m(\u001b[49m\u001b[43m)\u001b[49m\n\u001b[1;32m   1149\u001b[0m         \u001b[38;5;28;01mif\u001b[39;00m success:\n\u001b[1;32m   1150\u001b[0m             \u001b[38;5;28;01mreturn\u001b[39;00m data\n",
      "File \u001b[0;32m~/.local/lib/python3.8/site-packages/torch/utils/data/dataloader.py:986\u001b[0m, in \u001b[0;36m_MultiProcessingDataLoaderIter._try_get_data\u001b[0;34m(self, timeout)\u001b[0m\n\u001b[1;32m    973\u001b[0m \u001b[38;5;28;01mdef\u001b[39;00m \u001b[38;5;21m_try_get_data\u001b[39m(\u001b[38;5;28mself\u001b[39m, timeout\u001b[38;5;241m=\u001b[39m_utils\u001b[38;5;241m.\u001b[39mMP_STATUS_CHECK_INTERVAL):\n\u001b[1;32m    974\u001b[0m     \u001b[38;5;66m# Tries to fetch data from `self._data_queue` once for a given timeout.\u001b[39m\n\u001b[1;32m    975\u001b[0m     \u001b[38;5;66m# This can also be used as inner loop of fetching without timeout, with\u001b[39m\n\u001b[0;32m   (...)\u001b[0m\n\u001b[1;32m    983\u001b[0m     \u001b[38;5;66m# Returns a 2-tuple:\u001b[39m\n\u001b[1;32m    984\u001b[0m     \u001b[38;5;66m#   (bool: whether successfully get data, any: data if successful else None)\u001b[39m\n\u001b[1;32m    985\u001b[0m     \u001b[38;5;28;01mtry\u001b[39;00m:\n\u001b[0;32m--> 986\u001b[0m         data \u001b[38;5;241m=\u001b[39m \u001b[38;5;28;43mself\u001b[39;49m\u001b[38;5;241;43m.\u001b[39;49m\u001b[43m_data_queue\u001b[49m\u001b[38;5;241;43m.\u001b[39;49m\u001b[43mget\u001b[49m\u001b[43m(\u001b[49m\u001b[43mtimeout\u001b[49m\u001b[38;5;241;43m=\u001b[39;49m\u001b[43mtimeout\u001b[49m\u001b[43m)\u001b[49m\n\u001b[1;32m    987\u001b[0m         \u001b[38;5;28;01mreturn\u001b[39;00m (\u001b[38;5;28;01mTrue\u001b[39;00m, data)\n\u001b[1;32m    988\u001b[0m     \u001b[38;5;28;01mexcept\u001b[39;00m \u001b[38;5;167;01mException\u001b[39;00m \u001b[38;5;28;01mas\u001b[39;00m e:\n\u001b[1;32m    989\u001b[0m         \u001b[38;5;66m# At timeout and error, we manually check whether any worker has\u001b[39m\n\u001b[1;32m    990\u001b[0m         \u001b[38;5;66m# failed. Note that this is the only mechanism for Windows to detect\u001b[39m\n\u001b[1;32m    991\u001b[0m         \u001b[38;5;66m# worker failures.\u001b[39m\n",
      "File \u001b[0;32m/usr/lib/python3.8/multiprocessing/queues.py:107\u001b[0m, in \u001b[0;36mQueue.get\u001b[0;34m(self, block, timeout)\u001b[0m\n\u001b[1;32m    105\u001b[0m \u001b[38;5;28;01mif\u001b[39;00m block:\n\u001b[1;32m    106\u001b[0m     timeout \u001b[38;5;241m=\u001b[39m deadline \u001b[38;5;241m-\u001b[39m time\u001b[38;5;241m.\u001b[39mmonotonic()\n\u001b[0;32m--> 107\u001b[0m     \u001b[38;5;28;01mif\u001b[39;00m \u001b[38;5;129;01mnot\u001b[39;00m \u001b[38;5;28;43mself\u001b[39;49m\u001b[38;5;241;43m.\u001b[39;49m\u001b[43m_poll\u001b[49m\u001b[43m(\u001b[49m\u001b[43mtimeout\u001b[49m\u001b[43m)\u001b[49m:\n\u001b[1;32m    108\u001b[0m         \u001b[38;5;28;01mraise\u001b[39;00m Empty\n\u001b[1;32m    109\u001b[0m \u001b[38;5;28;01melif\u001b[39;00m \u001b[38;5;129;01mnot\u001b[39;00m \u001b[38;5;28mself\u001b[39m\u001b[38;5;241m.\u001b[39m_poll():\n",
      "File \u001b[0;32m/usr/lib/python3.8/multiprocessing/connection.py:257\u001b[0m, in \u001b[0;36m_ConnectionBase.poll\u001b[0;34m(self, timeout)\u001b[0m\n\u001b[1;32m    255\u001b[0m \u001b[38;5;28mself\u001b[39m\u001b[38;5;241m.\u001b[39m_check_closed()\n\u001b[1;32m    256\u001b[0m \u001b[38;5;28mself\u001b[39m\u001b[38;5;241m.\u001b[39m_check_readable()\n\u001b[0;32m--> 257\u001b[0m \u001b[38;5;28;01mreturn\u001b[39;00m \u001b[38;5;28;43mself\u001b[39;49m\u001b[38;5;241;43m.\u001b[39;49m\u001b[43m_poll\u001b[49m\u001b[43m(\u001b[49m\u001b[43mtimeout\u001b[49m\u001b[43m)\u001b[49m\n",
      "File \u001b[0;32m/usr/lib/python3.8/multiprocessing/connection.py:424\u001b[0m, in \u001b[0;36mConnection._poll\u001b[0;34m(self, timeout)\u001b[0m\n\u001b[1;32m    423\u001b[0m \u001b[38;5;28;01mdef\u001b[39;00m \u001b[38;5;21m_poll\u001b[39m(\u001b[38;5;28mself\u001b[39m, timeout):\n\u001b[0;32m--> 424\u001b[0m     r \u001b[38;5;241m=\u001b[39m \u001b[43mwait\u001b[49m\u001b[43m(\u001b[49m\u001b[43m[\u001b[49m\u001b[38;5;28;43mself\u001b[39;49m\u001b[43m]\u001b[49m\u001b[43m,\u001b[49m\u001b[43m \u001b[49m\u001b[43mtimeout\u001b[49m\u001b[43m)\u001b[49m\n\u001b[1;32m    425\u001b[0m     \u001b[38;5;28;01mreturn\u001b[39;00m \u001b[38;5;28mbool\u001b[39m(r)\n",
      "File \u001b[0;32m/usr/lib/python3.8/multiprocessing/connection.py:931\u001b[0m, in \u001b[0;36mwait\u001b[0;34m(object_list, timeout)\u001b[0m\n\u001b[1;32m    928\u001b[0m     deadline \u001b[38;5;241m=\u001b[39m time\u001b[38;5;241m.\u001b[39mmonotonic() \u001b[38;5;241m+\u001b[39m timeout\n\u001b[1;32m    930\u001b[0m \u001b[38;5;28;01mwhile\u001b[39;00m \u001b[38;5;28;01mTrue\u001b[39;00m:\n\u001b[0;32m--> 931\u001b[0m     ready \u001b[38;5;241m=\u001b[39m \u001b[43mselector\u001b[49m\u001b[38;5;241;43m.\u001b[39;49m\u001b[43mselect\u001b[49m\u001b[43m(\u001b[49m\u001b[43mtimeout\u001b[49m\u001b[43m)\u001b[49m\n\u001b[1;32m    932\u001b[0m     \u001b[38;5;28;01mif\u001b[39;00m ready:\n\u001b[1;32m    933\u001b[0m         \u001b[38;5;28;01mreturn\u001b[39;00m [key\u001b[38;5;241m.\u001b[39mfileobj \u001b[38;5;28;01mfor\u001b[39;00m (key, events) \u001b[38;5;129;01min\u001b[39;00m ready]\n",
      "File \u001b[0;32m/usr/lib/python3.8/selectors.py:415\u001b[0m, in \u001b[0;36m_PollLikeSelector.select\u001b[0;34m(self, timeout)\u001b[0m\n\u001b[1;32m    413\u001b[0m ready \u001b[38;5;241m=\u001b[39m []\n\u001b[1;32m    414\u001b[0m \u001b[38;5;28;01mtry\u001b[39;00m:\n\u001b[0;32m--> 415\u001b[0m     fd_event_list \u001b[38;5;241m=\u001b[39m \u001b[38;5;28;43mself\u001b[39;49m\u001b[38;5;241;43m.\u001b[39;49m\u001b[43m_selector\u001b[49m\u001b[38;5;241;43m.\u001b[39;49m\u001b[43mpoll\u001b[49m\u001b[43m(\u001b[49m\u001b[43mtimeout\u001b[49m\u001b[43m)\u001b[49m\n\u001b[1;32m    416\u001b[0m \u001b[38;5;28;01mexcept\u001b[39;00m \u001b[38;5;167;01mInterruptedError\u001b[39;00m:\n\u001b[1;32m    417\u001b[0m     \u001b[38;5;28;01mreturn\u001b[39;00m ready\n",
      "\u001b[0;31mKeyboardInterrupt\u001b[0m: "
     ]
    }
   ],
   "source": [
    "import tqdm \n",
    "import matplotlib.pyplot as plt\n",
    "for idx, data in enumerate(tqdm.tqdm(brats_loader)):\n",
    "    print(data['image_flair'].shape)\n"
   ]
  },
  {
   "cell_type": "code",
   "execution_count": 33,
   "id": "0374a190",
   "metadata": {},
   "outputs": [
    {
     "data": {
      "text/plain": [
       "(5, 4, 128, 128)"
      ]
     },
     "execution_count": 33,
     "metadata": {},
     "output_type": "execute_result"
    }
   ],
   "source": [
    "a = data['image_flair']\n",
    "a = torch.cat((a,data['image_t1'],data['image_t2'],data['image_t1ce']),dim=1)\n",
    "a.shape"
   ]
  },
  {
   "cell_type": "code",
   "execution_count": 13,
   "id": "dd8dcc8b",
   "metadata": {},
   "outputs": [
    {
     "data": {
      "text/plain": [
       "<matplotlib.image.AxesImage at 0x7fef61efb760>"
      ]
     },
     "execution_count": 13,
     "metadata": {},
     "output_type": "execute_result"
    },
    {
     "data": {
      "image/png": "[encoded data removed]",
      "text/plain": [
       "<Figure size 432x288 with 1 Axes>"
      ]
     },
     "metadata": {
      "needs_background": "light"
     },
     "output_type": "display_data"
    },
    {
     "data": {
      "image/png": "[encoded data removed]",
      "text/plain": [
       "<Figure size 432x288 with 1 Axes>"
      ]
     },
     "metadata": {
      "needs_background": "light"
     },
     "output_type": "display_data"
    }
   ],
   "source": [
    "plt.imshow(data['image_flair'][4,0,:,:])\n",
    "plt.figure()\n",
    "plt.imshow(data['image_t2'][4,0,:,:])\n",
    "# data['image_flair'].shape"
   ]
  },
  {
   "cell_type": "code",
   "execution_count": 11,
   "id": "846c5414",
   "metadata": {},
   "outputs": [],
   "source": [
    "\n",
    "brats_datapath = '/srv/Data/playground_data/brats/brats_training_data/data_raw/**/**.nii'\n",
    "# brats_mask = '/srv/Data/playground_data/brats/brats_training_data/data_raw/**/**_seg.nii'\n",
    "\n",
    "masklist , datalist = [],[]\n",
    "for x in glob.glob(brats_datapath):\n",
    "    if (x.split('/')[8].split('_')[-1]== 'seg.nii'):\n",
    "        masklist.append({'label': x})\n",
    "    else:\n",
    "        datalist.append({'image':x})\n",
    "        \n",
    "h5cachedir_ = '/srv/Data/playground_data/brats/brats_training_data/h5_data'  \n",
    "# datalist = {'image': '/srv/Data/playground_data/brats/brats_training_data/data_raw/BraTS20_Training_126/BraTS20_Training_126_flair.nii'}\n",
    "h5cacheds = H5CachedDataset(datalist,masklist,transforms1,h5cachedir=h5cachedir_)\n",
    "torch.multiprocessing.set_sharing_strategy('file_system')\n",
    "brats_loader = torch.utils.data.DataLoader(h5cacheds,batch_size = 5 ,\\\n",
    "                                           shuffle = False,num_workers= 1)# ,pin_memory = True)\n"
   ]
  },
  {
   "cell_type": "code",
   "execution_count": 12,
   "id": "d52d09a5",
   "metadata": {},
   "outputs": [],
   "source": [
    "import matplotlib.pyplot as plt\n",
    "for idx, data in enumerate(brats_loader):\n",
    "    image=data['image']\n",
    "    label=data['label']\n",
    "    break\n",
    "   "
   ]
  },
  {
   "cell_type": "code",
   "execution_count": 28,
   "id": "db600f5e",
   "metadata": {},
   "outputs": [
    {
     "name": "stdout",
     "output_type": "stream",
     "text": [
      "/srv/Data/playground_data/brats/brats_training_data/data_raw/BraTS20_Training_126\n",
      "/srv/Data/playground_data/brats/brats_training_data/data_raw/BraTS20_Training_231\n",
      "/srv/Data/playground_data/brats/brats_training_data/data_raw/BraTS20_Training_118\n",
      "/srv/Data/playground_data/brats/brats_training_data/data_raw/BraTS20_Training_213\n",
      "/srv/Data/playground_data/brats/brats_training_data/data_raw/BraTS20_Training_320\n",
      "/srv/Data/playground_data/brats/brats_training_data/data_raw/BraTS20_Training_151\n",
      "/srv/Data/playground_data/brats/brats_training_data/data_raw/BraTS20_Training_352\n",
      "/srv/Data/playground_data/brats/brats_training_data/data_raw/BraTS20_Training_289\n",
      "/srv/Data/playground_data/brats/brats_training_data/data_raw/BraTS20_Training_344\n",
      "/srv/Data/playground_data/brats/brats_training_data/data_raw/BraTS20_Training_129\n",
      "/srv/Data/playground_data/brats/brats_training_data/data_raw/BraTS20_Training_103\n",
      "/srv/Data/playground_data/brats/brats_training_data/data_raw/BraTS20_Training_300\n",
      "/srv/Data/playground_data/brats/brats_training_data/data_raw/BraTS20_Training_161\n",
      "/srv/Data/playground_data/brats/brats_training_data/data_raw/BraTS20_Training_291\n",
      "/srv/Data/playground_data/brats/brats_training_data/data_raw/BraTS20_Training_096\n",
      "/srv/Data/playground_data/brats/brats_training_data/data_raw/BraTS20_Training_053\n",
      "/srv/Data/playground_data/brats/brats_training_data/data_raw/BraTS20_Training_220\n",
      "/srv/Data/playground_data/brats/brats_training_data/data_raw/BraTS20_Training_342\n",
      "/srv/Data/playground_data/brats/brats_training_data/data_raw/BraTS20_Training_049\n",
      "/srv/Data/playground_data/brats/brats_training_data/data_raw/BraTS20_Training_047\n",
      "/srv/Data/playground_data/brats/brats_training_data/data_raw/BraTS20_Training_032\n",
      "/srv/Data/playground_data/brats/brats_training_data/data_raw/BraTS20_Training_296\n",
      "/srv/Data/playground_data/brats/brats_training_data/data_raw/BraTS20_Training_194\n",
      "/srv/Data/playground_data/brats/brats_training_data/data_raw/BraTS20_Training_042\n",
      "/srv/Data/playground_data/brats/brats_training_data/data_raw/BraTS20_Training_123\n",
      "/srv/Data/playground_data/brats/brats_training_data/data_raw/BraTS20_Training_366\n",
      "/srv/Data/playground_data/brats/brats_training_data/data_raw/BraTS20_Training_167\n",
      "/srv/Data/playground_data/brats/brats_training_data/data_raw/BraTS20_Training_282\n",
      "/srv/Data/playground_data/brats/brats_training_data/data_raw/BraTS20_Training_340\n",
      "/srv/Data/playground_data/brats/brats_training_data/data_raw/BraTS20_Training_355\n",
      "/srv/Data/playground_data/brats/brats_training_data/data_raw/BraTS20_Training_224\n",
      "/srv/Data/playground_data/brats/brats_training_data/data_raw/BraTS20_Training_245\n",
      "/srv/Data/playground_data/brats/brats_training_data/data_raw/BraTS20_Training_188\n",
      "/srv/Data/playground_data/brats/brats_training_data/data_raw/BraTS20_Training_259\n",
      "/srv/Data/playground_data/brats/brats_training_data/data_raw/BraTS20_Training_016\n",
      "/srv/Data/playground_data/brats/brats_training_data/data_raw/BraTS20_Training_169\n",
      "/srv/Data/playground_data/brats/brats_training_data/data_raw/BraTS20_Training_160\n",
      "/srv/Data/playground_data/brats/brats_training_data/data_raw/BraTS20_Training_315\n",
      "/srv/Data/playground_data/brats/brats_training_data/data_raw/BraTS20_Training_137\n",
      "/srv/Data/playground_data/brats/brats_training_data/data_raw/BraTS20_Training_018\n",
      "/srv/Data/playground_data/brats/brats_training_data/data_raw/BraTS20_Training_351\n",
      "/srv/Data/playground_data/brats/brats_training_data/data_raw/BraTS20_Training_365\n",
      "/srv/Data/playground_data/brats/brats_training_data/data_raw/BraTS20_Training_068\n",
      "/srv/Data/playground_data/brats/brats_training_data/data_raw/BraTS20_Training_192\n",
      "/srv/Data/playground_data/brats/brats_training_data/data_raw/BraTS20_Training_336\n",
      "/srv/Data/playground_data/brats/brats_training_data/data_raw/BraTS20_Training_356\n",
      "/srv/Data/playground_data/brats/brats_training_data/data_raw/BraTS20_Training_185\n",
      "/srv/Data/playground_data/brats/brats_training_data/data_raw/BraTS20_Training_074\n",
      "/srv/Data/playground_data/brats/brats_training_data/data_raw/BraTS20_Training_140\n",
      "/srv/Data/playground_data/brats/brats_training_data/data_raw/BraTS20_Training_261\n",
      "/srv/Data/playground_data/brats/brats_training_data/data_raw/BraTS20_Training_332\n",
      "/srv/Data/playground_data/brats/brats_training_data/data_raw/BraTS20_Training_059\n",
      "/srv/Data/playground_data/brats/brats_training_data/data_raw/BraTS20_Training_171\n",
      "/srv/Data/playground_data/brats/brats_training_data/data_raw/BraTS20_Training_008\n",
      "/srv/Data/playground_data/brats/brats_training_data/data_raw/BraTS20_Training_265\n",
      "/srv/Data/playground_data/brats/brats_training_data/data_raw/BraTS20_Training_023\n",
      "/srv/Data/playground_data/brats/brats_training_data/data_raw/BraTS20_Training_195\n",
      "/srv/Data/playground_data/brats/brats_training_data/data_raw/BraTS20_Training_302\n",
      "/srv/Data/playground_data/brats/brats_training_data/data_raw/BraTS20_Training_323\n",
      "/srv/Data/playground_data/brats/brats_training_data/data_raw/BraTS20_Training_113\n",
      "/srv/Data/playground_data/brats/brats_training_data/data_raw/BraTS20_Training_325\n",
      "/srv/Data/playground_data/brats/brats_training_data/data_raw/BraTS20_Training_287\n",
      "/srv/Data/playground_data/brats/brats_training_data/data_raw/BraTS20_Training_109\n",
      "/srv/Data/playground_data/brats/brats_training_data/data_raw/BraTS20_Training_202\n",
      "/srv/Data/playground_data/brats/brats_training_data/data_raw/BraTS20_Training_228\n",
      "/srv/Data/playground_data/brats/brats_training_data/data_raw/BraTS20_Training_143\n",
      "/srv/Data/playground_data/brats/brats_training_data/data_raw/BraTS20_Training_363\n",
      "/srv/Data/playground_data/brats/brats_training_data/data_raw/BraTS20_Training_157\n",
      "/srv/Data/playground_data/brats/brats_training_data/data_raw/BraTS20_Training_266\n",
      "/srv/Data/playground_data/brats/brats_training_data/data_raw/BraTS20_Training_014\n",
      "/srv/Data/playground_data/brats/brats_training_data/data_raw/BraTS20_Training_257\n",
      "/srv/Data/playground_data/brats/brats_training_data/data_raw/BraTS20_Training_317\n",
      "/srv/Data/playground_data/brats/brats_training_data/data_raw/BraTS20_Training_035\n",
      "/srv/Data/playground_data/brats/brats_training_data/data_raw/BraTS20_Training_203\n",
      "/srv/Data/playground_data/brats/brats_training_data/data_raw/BraTS20_Training_324\n",
      "/srv/Data/playground_data/brats/brats_training_data/data_raw/BraTS20_Training_215\n",
      "/srv/Data/playground_data/brats/brats_training_data/data_raw/BraTS20_Training_292\n",
      "/srv/Data/playground_data/brats/brats_training_data/data_raw/BraTS20_Training_350\n",
      "/srv/Data/playground_data/brats/brats_training_data/data_raw/BraTS20_Training_280\n",
      "/srv/Data/playground_data/brats/brats_training_data/data_raw/BraTS20_Training_164\n",
      "/srv/Data/playground_data/brats/brats_training_data/data_raw/BraTS20_Training_235\n",
      "/srv/Data/playground_data/brats/brats_training_data/data_raw/BraTS20_Training_069\n",
      "/srv/Data/playground_data/brats/brats_training_data/data_raw/BraTS20_Training_237\n",
      "/srv/Data/playground_data/brats/brats_training_data/data_raw/BraTS20_Training_346\n",
      "/srv/Data/playground_data/brats/brats_training_data/data_raw/BraTS20_Training_084\n",
      "/srv/Data/playground_data/brats/brats_training_data/data_raw/BraTS20_Training_335\n",
      "/srv/Data/playground_data/brats/brats_training_data/data_raw/BraTS20_Training_041\n",
      "/srv/Data/playground_data/brats/brats_training_data/data_raw/BraTS20_Training_333\n",
      "/srv/Data/playground_data/brats/brats_training_data/data_raw/BraTS20_Training_190\n",
      "/srv/Data/playground_data/brats/brats_training_data/data_raw/BraTS20_Training_178\n",
      "/srv/Data/playground_data/brats/brats_training_data/data_raw/BraTS20_Training_111\n",
      "/srv/Data/playground_data/brats/brats_training_data/data_raw/BraTS20_Training_039\n",
      "/srv/Data/playground_data/brats/brats_training_data/data_raw/BraTS20_Training_217\n",
      "/srv/Data/playground_data/brats/brats_training_data/data_raw/BraTS20_Training_116\n",
      "/srv/Data/playground_data/brats/brats_training_data/data_raw/BraTS20_Training_017\n",
      "/srv/Data/playground_data/brats/brats_training_data/data_raw/BraTS20_Training_006\n",
      "/srv/Data/playground_data/brats/brats_training_data/data_raw/BraTS20_Training_099\n",
      "/srv/Data/playground_data/brats/brats_training_data/data_raw/BraTS20_Training_045\n",
      "/srv/Data/playground_data/brats/brats_training_data/data_raw/BraTS20_Training_205\n",
      "/srv/Data/playground_data/brats/brats_training_data/data_raw/BraTS20_Training_229\n",
      "/srv/Data/playground_data/brats/brats_training_data/data_raw/BraTS20_Training_163\n",
      "/srv/Data/playground_data/brats/brats_training_data/data_raw/BraTS20_Training_249\n",
      "/srv/Data/playground_data/brats/brats_training_data/data_raw/BraTS20_Training_070\n",
      "/srv/Data/playground_data/brats/brats_training_data/data_raw/BraTS20_Training_132\n",
      "/srv/Data/playground_data/brats/brats_training_data/data_raw/BraTS20_Training_206\n",
      "/srv/Data/playground_data/brats/brats_training_data/data_raw/BraTS20_Training_309\n",
      "/srv/Data/playground_data/brats/brats_training_data/data_raw/BraTS20_Training_310\n",
      "/srv/Data/playground_data/brats/brats_training_data/data_raw/BraTS20_Training_125\n",
      "/srv/Data/playground_data/brats/brats_training_data/data_raw/BraTS20_Training_089\n",
      "/srv/Data/playground_data/brats/brats_training_data/data_raw/BraTS20_Training_226\n",
      "/srv/Data/playground_data/brats/brats_training_data/data_raw/BraTS20_Training_274\n",
      "/srv/Data/playground_data/brats/brats_training_data/data_raw/BraTS20_Training_098\n",
      "/srv/Data/playground_data/brats/brats_training_data/data_raw/BraTS20_Training_060\n",
      "/srv/Data/playground_data/brats/brats_training_data/data_raw/BraTS20_Training_273\n",
      "/srv/Data/playground_data/brats/brats_training_data/data_raw/BraTS20_Training_061\n",
      "/srv/Data/playground_data/brats/brats_training_data/data_raw/BraTS20_Training_341\n",
      "/srv/Data/playground_data/brats/brats_training_data/data_raw/BraTS20_Training_025\n",
      "/srv/Data/playground_data/brats/brats_training_data/data_raw/BraTS20_Training_182\n",
      "/srv/Data/playground_data/brats/brats_training_data/data_raw/BraTS20_Training_263\n",
      "/srv/Data/playground_data/brats/brats_training_data/data_raw/BraTS20_Training_305\n",
      "/srv/Data/playground_data/brats/brats_training_data/data_raw/BraTS20_Training_071\n",
      "/srv/Data/playground_data/brats/brats_training_data/data_raw/BraTS20_Training_312\n",
      "/srv/Data/playground_data/brats/brats_training_data/data_raw/BraTS20_Training_079\n",
      "/srv/Data/playground_data/brats/brats_training_data/data_raw/BraTS20_Training_262\n",
      "/srv/Data/playground_data/brats/brats_training_data/data_raw/BraTS20_Training_168\n",
      "/srv/Data/playground_data/brats/brats_training_data/data_raw/BraTS20_Training_131\n",
      "/srv/Data/playground_data/brats/brats_training_data/data_raw/BraTS20_Training_339\n",
      "/srv/Data/playground_data/brats/brats_training_data/data_raw/BraTS20_Training_223\n",
      "/srv/Data/playground_data/brats/brats_training_data/data_raw/BraTS20_Training_145\n",
      "/srv/Data/playground_data/brats/brats_training_data/data_raw/BraTS20_Training_156\n",
      "/srv/Data/playground_data/brats/brats_training_data/data_raw/BraTS20_Training_199\n",
      "/srv/Data/playground_data/brats/brats_training_data/data_raw/BraTS20_Training_174\n",
      "/srv/Data/playground_data/brats/brats_training_data/data_raw/BraTS20_Training_121\n",
      "/srv/Data/playground_data/brats/brats_training_data/data_raw/BraTS20_Training_225\n",
      "/srv/Data/playground_data/brats/brats_training_data/data_raw/BraTS20_Training_277\n",
      "/srv/Data/playground_data/brats/brats_training_data/data_raw/BraTS20_Training_248\n",
      "/srv/Data/playground_data/brats/brats_training_data/data_raw/BraTS20_Training_152\n",
      "/srv/Data/playground_data/brats/brats_training_data/data_raw/BraTS20_Training_056\n",
      "/srv/Data/playground_data/brats/brats_training_data/data_raw/BraTS20_Training_044\n",
      "/srv/Data/playground_data/brats/brats_training_data/data_raw/BraTS20_Training_003\n",
      "/srv/Data/playground_data/brats/brats_training_data/data_raw/BraTS20_Training_064\n",
      "/srv/Data/playground_data/brats/brats_training_data/data_raw/BraTS20_Training_329\n",
      "/srv/Data/playground_data/brats/brats_training_data/data_raw/BraTS20_Training_036\n",
      "/srv/Data/playground_data/brats/brats_training_data/data_raw/BraTS20_Training_208\n",
      "/srv/Data/playground_data/brats/brats_training_data/data_raw/BraTS20_Training_218\n",
      "/srv/Data/playground_data/brats/brats_training_data/data_raw/BraTS20_Training_246\n",
      "/srv/Data/playground_data/brats/brats_training_data/data_raw/BraTS20_Training_349\n",
      "/srv/Data/playground_data/brats/brats_training_data/data_raw/BraTS20_Training_085\n",
      "/srv/Data/playground_data/brats/brats_training_data/data_raw/BraTS20_Training_102\n",
      "/srv/Data/playground_data/brats/brats_training_data/data_raw/BraTS20_Training_153\n",
      "/srv/Data/playground_data/brats/brats_training_data/data_raw/BraTS20_Training_024\n",
      "/srv/Data/playground_data/brats/brats_training_data/data_raw/BraTS20_Training_095\n",
      "/srv/Data/playground_data/brats/brats_training_data/data_raw/BraTS20_Training_081\n",
      "/srv/Data/playground_data/brats/brats_training_data/data_raw/BraTS20_Training_078\n",
      "/srv/Data/playground_data/brats/brats_training_data/data_raw/BraTS20_Training_211\n",
      "/srv/Data/playground_data/brats/brats_training_data/data_raw/BraTS20_Training_285\n",
      "/srv/Data/playground_data/brats/brats_training_data/data_raw/BraTS20_Training_209\n",
      "/srv/Data/playground_data/brats/brats_training_data/data_raw/BraTS20_Training_232\n",
      "/srv/Data/playground_data/brats/brats_training_data/data_raw/BraTS20_Training_077\n",
      "/srv/Data/playground_data/brats/brats_training_data/data_raw/BraTS20_Training_343\n",
      "/srv/Data/playground_data/brats/brats_training_data/data_raw/BraTS20_Training_311\n",
      "/srv/Data/playground_data/brats/brats_training_data/data_raw/BraTS20_Training_252\n",
      "/srv/Data/playground_data/brats/brats_training_data/data_raw/BraTS20_Training_200\n",
      "/srv/Data/playground_data/brats/brats_training_data/data_raw/BraTS20_Training_088\n",
      "/srv/Data/playground_data/brats/brats_training_data/data_raw/BraTS20_Training_358\n",
      "/srv/Data/playground_data/brats/brats_training_data/data_raw/BraTS20_Training_082\n",
      "/srv/Data/playground_data/brats/brats_training_data/data_raw/BraTS20_Training_127\n",
      "/srv/Data/playground_data/brats/brats_training_data/data_raw/BraTS20_Training_062\n",
      "/srv/Data/playground_data/brats/brats_training_data/data_raw/BraTS20_Training_087\n",
      "/srv/Data/playground_data/brats/brats_training_data/data_raw/BraTS20_Training_046\n",
      "/srv/Data/playground_data/brats/brats_training_data/data_raw/BraTS20_Training_369\n",
      "/srv/Data/playground_data/brats/brats_training_data/data_raw/BraTS20_Training_124\n",
      "/srv/Data/playground_data/brats/brats_training_data/data_raw/BraTS20_Training_094\n",
      "/srv/Data/playground_data/brats/brats_training_data/data_raw/BraTS20_Training_176\n",
      "/srv/Data/playground_data/brats/brats_training_data/data_raw/BraTS20_Training_166\n",
      "/srv/Data/playground_data/brats/brats_training_data/data_raw/BraTS20_Training_055\n",
      "/srv/Data/playground_data/brats/brats_training_data/data_raw/BraTS20_Training_073\n",
      "/srv/Data/playground_data/brats/brats_training_data/data_raw/BraTS20_Training_159\n",
      "/srv/Data/playground_data/brats/brats_training_data/data_raw/BraTS20_Training_270\n",
      "/srv/Data/playground_data/brats/brats_training_data/data_raw/BraTS20_Training_242\n",
      "/srv/Data/playground_data/brats/brats_training_data/data_raw/BraTS20_Training_108\n",
      "/srv/Data/playground_data/brats/brats_training_data/data_raw/BraTS20_Training_227\n",
      "/srv/Data/playground_data/brats/brats_training_data/data_raw/BraTS20_Training_135\n",
      "/srv/Data/playground_data/brats/brats_training_data/data_raw/BraTS20_Training_158\n",
      "/srv/Data/playground_data/brats/brats_training_data/data_raw/BraTS20_Training_119\n",
      "/srv/Data/playground_data/brats/brats_training_data/data_raw/BraTS20_Training_007\n",
      "/srv/Data/playground_data/brats/brats_training_data/data_raw/BraTS20_Training_020\n",
      "/srv/Data/playground_data/brats/brats_training_data/data_raw/BraTS20_Training_212\n",
      "/srv/Data/playground_data/brats/brats_training_data/data_raw/BraTS20_Training_267\n",
      "/srv/Data/playground_data/brats/brats_training_data/data_raw/BraTS20_Training_141\n",
      "/srv/Data/playground_data/brats/brats_training_data/data_raw/BraTS20_Training_100\n",
      "/srv/Data/playground_data/brats/brats_training_data/data_raw/BraTS20_Training_256\n",
      "/srv/Data/playground_data/brats/brats_training_data/data_raw/BraTS20_Training_272\n",
      "/srv/Data/playground_data/brats/brats_training_data/data_raw/BraTS20_Training_180\n",
      "/srv/Data/playground_data/brats/brats_training_data/data_raw/BraTS20_Training_271\n",
      "/srv/Data/playground_data/brats/brats_training_data/data_raw/BraTS20_Training_186\n",
      "/srv/Data/playground_data/brats/brats_training_data/data_raw/BraTS20_Training_021\n",
      "/srv/Data/playground_data/brats/brats_training_data/data_raw/BraTS20_Training_066\n",
      "/srv/Data/playground_data/brats/brats_training_data/data_raw/BraTS20_Training_319\n",
      "/srv/Data/playground_data/brats/brats_training_data/data_raw/BraTS20_Training_301\n",
      "/srv/Data/playground_data/brats/brats_training_data/data_raw/BraTS20_Training_198\n",
      "/srv/Data/playground_data/brats/brats_training_data/data_raw/BraTS20_Training_067\n",
      "/srv/Data/playground_data/brats/brats_training_data/data_raw/BraTS20_Training_288\n",
      "/srv/Data/playground_data/brats/brats_training_data/data_raw/BraTS20_Training_241\n",
      "/srv/Data/playground_data/brats/brats_training_data/data_raw/BraTS20_Training_250\n",
      "/srv/Data/playground_data/brats/brats_training_data/data_raw/BraTS20_Training_197\n",
      "/srv/Data/playground_data/brats/brats_training_data/data_raw/BraTS20_Training_075\n",
      "/srv/Data/playground_data/brats/brats_training_data/data_raw/BraTS20_Training_297\n",
      "/srv/Data/playground_data/brats/brats_training_data/data_raw/BraTS20_Training_204\n",
      "/srv/Data/playground_data/brats/brats_training_data/data_raw/BraTS20_Training_184\n",
      "/srv/Data/playground_data/brats/brats_training_data/data_raw/BraTS20_Training_146\n",
      "/srv/Data/playground_data/brats/brats_training_data/data_raw/BraTS20_Training_214\n",
      "/srv/Data/playground_data/brats/brats_training_data/data_raw/BraTS20_Training_114\n",
      "/srv/Data/playground_data/brats/brats_training_data/data_raw/BraTS20_Training_298\n",
      "/srv/Data/playground_data/brats/brats_training_data/data_raw/BraTS20_Training_148\n",
      "/srv/Data/playground_data/brats/brats_training_data/data_raw/BraTS20_Training_347\n",
      "/srv/Data/playground_data/brats/brats_training_data/data_raw/BraTS20_Training_210\n",
      "/srv/Data/playground_data/brats/brats_training_data/data_raw/BraTS20_Training_255\n",
      "/srv/Data/playground_data/brats/brats_training_data/data_raw/BraTS20_Training_009\n",
      "/srv/Data/playground_data/brats/brats_training_data/data_raw/BraTS20_Training_260\n",
      "/srv/Data/playground_data/brats/brats_training_data/data_raw/BraTS20_Training_149\n",
      "/srv/Data/playground_data/brats/brats_training_data/data_raw/BraTS20_Training_043\n",
      "/srv/Data/playground_data/brats/brats_training_data/data_raw/BraTS20_Training_318\n",
      "/srv/Data/playground_data/brats/brats_training_data/data_raw/BraTS20_Training_290\n",
      "/srv/Data/playground_data/brats/brats_training_data/data_raw/BraTS20_Training_165\n",
      "/srv/Data/playground_data/brats/brats_training_data/data_raw/BraTS20_Training_331\n",
      "/srv/Data/playground_data/brats/brats_training_data/data_raw/BraTS20_Training_155\n",
      "/srv/Data/playground_data/brats/brats_training_data/data_raw/BraTS20_Training_134\n",
      "/srv/Data/playground_data/brats/brats_training_data/data_raw/BraTS20_Training_304\n",
      "/srv/Data/playground_data/brats/brats_training_data/data_raw/BraTS20_Training_345\n",
      "/srv/Data/playground_data/brats/brats_training_data/data_raw/BraTS20_Training_191\n",
      "/srv/Data/playground_data/brats/brats_training_data/data_raw/BraTS20_Training_105\n",
      "/srv/Data/playground_data/brats/brats_training_data/data_raw/BraTS20_Training_264\n",
      "/srv/Data/playground_data/brats/brats_training_data/data_raw/BraTS20_Training_013\n",
      "/srv/Data/playground_data/brats/brats_training_data/data_raw/BraTS20_Training_170\n",
      "/srv/Data/playground_data/brats/brats_training_data/data_raw/BraTS20_Training_040\n",
      "/srv/Data/playground_data/brats/brats_training_data/data_raw/BraTS20_Training_019\n",
      "/srv/Data/playground_data/brats/brats_training_data/data_raw/BraTS20_Training_011\n",
      "/srv/Data/playground_data/brats/brats_training_data/data_raw/BraTS20_Training_012\n",
      "/srv/Data/playground_data/brats/brats_training_data/data_raw/BraTS20_Training_230\n",
      "/srv/Data/playground_data/brats/brats_training_data/data_raw/BraTS20_Training_104\n",
      "/srv/Data/playground_data/brats/brats_training_data/data_raw/BraTS20_Training_038\n",
      "/srv/Data/playground_data/brats/brats_training_data/data_raw/BraTS20_Training_357\n",
      "/srv/Data/playground_data/brats/brats_training_data/data_raw/BraTS20_Training_364\n",
      "/srv/Data/playground_data/brats/brats_training_data/data_raw/BraTS20_Training_361\n",
      "/srv/Data/playground_data/brats/brats_training_data/data_raw/BraTS20_Training_239\n",
      "/srv/Data/playground_data/brats/brats_training_data/data_raw/BraTS20_Training_275\n",
      "/srv/Data/playground_data/brats/brats_training_data/data_raw/BraTS20_Training_063\n",
      "/srv/Data/playground_data/brats/brats_training_data/data_raw/BraTS20_Training_142\n",
      "/srv/Data/playground_data/brats/brats_training_data/data_raw/BraTS20_Training_173\n",
      "/srv/Data/playground_data/brats/brats_training_data/data_raw/BraTS20_Training_136\n",
      "/srv/Data/playground_data/brats/brats_training_data/data_raw/BraTS20_Training_279\n",
      "/srv/Data/playground_data/brats/brats_training_data/data_raw/BraTS20_Training_327\n",
      "/srv/Data/playground_data/brats/brats_training_data/data_raw/BraTS20_Training_193\n",
      "/srv/Data/playground_data/brats/brats_training_data/data_raw/BraTS20_Training_295\n",
      "/srv/Data/playground_data/brats/brats_training_data/data_raw/BraTS20_Training_244\n",
      "/srv/Data/playground_data/brats/brats_training_data/data_raw/BraTS20_Training_251\n",
      "/srv/Data/playground_data/brats/brats_training_data/data_raw/BraTS20_Training_090\n",
      "/srv/Data/playground_data/brats/brats_training_data/data_raw/BraTS20_Training_004\n",
      "/srv/Data/playground_data/brats/brats_training_data/data_raw/BraTS20_Training_117\n",
      "/srv/Data/playground_data/brats/brats_training_data/data_raw/BraTS20_Training_338\n",
      "/srv/Data/playground_data/brats/brats_training_data/data_raw/BraTS20_Training_299\n",
      "/srv/Data/playground_data/brats/brats_training_data/data_raw/BraTS20_Training_005\n",
      "/srv/Data/playground_data/brats/brats_training_data/data_raw/BraTS20_Training_027\n",
      "/srv/Data/playground_data/brats/brats_training_data/data_raw/BraTS20_Training_219\n",
      "/srv/Data/playground_data/brats/brats_training_data/data_raw/BraTS20_Training_207\n",
      "/srv/Data/playground_data/brats/brats_training_data/data_raw/BraTS20_Training_313\n",
      "/srv/Data/playground_data/brats/brats_training_data/data_raw/BraTS20_Training_233\n",
      "/srv/Data/playground_data/brats/brats_training_data/data_raw/BraTS20_Training_051\n",
      "/srv/Data/playground_data/brats/brats_training_data/data_raw/BraTS20_Training_353\n",
      "/srv/Data/playground_data/brats/brats_training_data/data_raw/BraTS20_Training_054\n",
      "/srv/Data/playground_data/brats/brats_training_data/data_raw/BraTS20_Training_314\n",
      "/srv/Data/playground_data/brats/brats_training_data/data_raw/BraTS20_Training_253\n",
      "/srv/Data/playground_data/brats/brats_training_data/data_raw/BraTS20_Training_001\n",
      "/srv/Data/playground_data/brats/brats_training_data/data_raw/BraTS20_Training_189\n",
      "/srv/Data/playground_data/brats/brats_training_data/data_raw/BraTS20_Training_033\n",
      "/srv/Data/playground_data/brats/brats_training_data/data_raw/BraTS20_Training_278\n",
      "/srv/Data/playground_data/brats/brats_training_data/data_raw/BraTS20_Training_254\n",
      "/srv/Data/playground_data/brats/brats_training_data/data_raw/BraTS20_Training_269\n",
      "/srv/Data/playground_data/brats/brats_training_data/data_raw/BraTS20_Training_307\n",
      "/srv/Data/playground_data/brats/brats_training_data/data_raw/BraTS20_Training_052\n",
      "/srv/Data/playground_data/brats/brats_training_data/data_raw/BraTS20_Training_106\n",
      "/srv/Data/playground_data/brats/brats_training_data/data_raw/BraTS20_Training_306\n",
      "/srv/Data/playground_data/brats/brats_training_data/data_raw/BraTS20_Training_086\n",
      "/srv/Data/playground_data/brats/brats_training_data/data_raw/BraTS20_Training_281\n",
      "/srv/Data/playground_data/brats/brats_training_data/data_raw/BraTS20_Training_258\n",
      "/srv/Data/playground_data/brats/brats_training_data/data_raw/BraTS20_Training_101\n",
      "/srv/Data/playground_data/brats/brats_training_data/data_raw/BraTS20_Training_294\n",
      "/srv/Data/playground_data/brats/brats_training_data/data_raw/BraTS20_Training_128\n",
      "/srv/Data/playground_data/brats/brats_training_data/data_raw/BraTS20_Training_303\n",
      "/srv/Data/playground_data/brats/brats_training_data/data_raw/BraTS20_Training_028\n",
      "/srv/Data/playground_data/brats/brats_training_data/data_raw/BraTS20_Training_015\n",
      "/srv/Data/playground_data/brats/brats_training_data/data_raw/BraTS20_Training_348\n",
      "/srv/Data/playground_data/brats/brats_training_data/data_raw/BraTS20_Training_010\n",
      "/srv/Data/playground_data/brats/brats_training_data/data_raw/BraTS20_Training_326\n",
      "/srv/Data/playground_data/brats/brats_training_data/data_raw/BraTS20_Training_065\n",
      "/srv/Data/playground_data/brats/brats_training_data/data_raw/BraTS20_Training_330\n",
      "/srv/Data/playground_data/brats/brats_training_data/data_raw/BraTS20_Training_179\n",
      "/srv/Data/playground_data/brats/brats_training_data/data_raw/BraTS20_Training_030\n",
      "/srv/Data/playground_data/brats/brats_training_data/data_raw/BraTS20_Training_076\n",
      "/srv/Data/playground_data/brats/brats_training_data/data_raw/BraTS20_Training_107\n",
      "/srv/Data/playground_data/brats/brats_training_data/data_raw/BraTS20_Training_162\n",
      "/srv/Data/playground_data/brats/brats_training_data/data_raw/BraTS20_Training_058\n",
      "/srv/Data/playground_data/brats/brats_training_data/data_raw/BraTS20_Training_120\n",
      "/srv/Data/playground_data/brats/brats_training_data/data_raw/BraTS20_Training_037\n",
      "/srv/Data/playground_data/brats/brats_training_data/data_raw/BraTS20_Training_216\n",
      "/srv/Data/playground_data/brats/brats_training_data/data_raw/BraTS20_Training_092\n",
      "/srv/Data/playground_data/brats/brats_training_data/data_raw/BraTS20_Training_072\n",
      "/srv/Data/playground_data/brats/brats_training_data/data_raw/BraTS20_Training_360\n",
      "/srv/Data/playground_data/brats/brats_training_data/data_raw/BraTS20_Training_034\n",
      "/srv/Data/playground_data/brats/brats_training_data/data_raw/BraTS20_Training_328\n",
      "/srv/Data/playground_data/brats/brats_training_data/data_raw/BraTS20_Training_201\n",
      "/srv/Data/playground_data/brats/brats_training_data/data_raw/BraTS20_Training_222\n",
      "/srv/Data/playground_data/brats/brats_training_data/data_raw/BraTS20_Training_057\n",
      "/srv/Data/playground_data/brats/brats_training_data/data_raw/BraTS20_Training_238\n",
      "/srv/Data/playground_data/brats/brats_training_data/data_raw/BraTS20_Training_029\n",
      "/srv/Data/playground_data/brats/brats_training_data/data_raw/BraTS20_Training_181\n",
      "/srv/Data/playground_data/brats/brats_training_data/data_raw/BraTS20_Training_115\n",
      "/srv/Data/playground_data/brats/brats_training_data/data_raw/BraTS20_Training_097\n",
      "/srv/Data/playground_data/brats/brats_training_data/data_raw/BraTS20_Training_154\n",
      "/srv/Data/playground_data/brats/brats_training_data/data_raw/BraTS20_Training_236\n",
      "/srv/Data/playground_data/brats/brats_training_data/data_raw/BraTS20_Training_284\n",
      "/srv/Data/playground_data/brats/brats_training_data/data_raw/BraTS20_Training_091\n",
      "/srv/Data/playground_data/brats/brats_training_data/data_raw/BraTS20_Training_321\n",
      "/srv/Data/playground_data/brats/brats_training_data/data_raw/BraTS20_Training_240\n",
      "/srv/Data/playground_data/brats/brats_training_data/data_raw/BraTS20_Training_172\n",
      "/srv/Data/playground_data/brats/brats_training_data/data_raw/BraTS20_Training_050\n",
      "/srv/Data/playground_data/brats/brats_training_data/data_raw/BraTS20_Training_362\n",
      "/srv/Data/playground_data/brats/brats_training_data/data_raw/BraTS20_Training_359\n",
      "/srv/Data/playground_data/brats/brats_training_data/data_raw/BraTS20_Training_334\n",
      "/srv/Data/playground_data/brats/brats_training_data/data_raw/BraTS20_Training_150\n",
      "/srv/Data/playground_data/brats/brats_training_data/data_raw/BraTS20_Training_196\n",
      "/srv/Data/playground_data/brats/brats_training_data/data_raw/BraTS20_Training_177\n",
      "/srv/Data/playground_data/brats/brats_training_data/data_raw/BraTS20_Training_031\n",
      "/srv/Data/playground_data/brats/brats_training_data/data_raw/BraTS20_Training_368\n",
      "/srv/Data/playground_data/brats/brats_training_data/data_raw/BraTS20_Training_175\n",
      "/srv/Data/playground_data/brats/brats_training_data/data_raw/BraTS20_Training_308\n",
      "/srv/Data/playground_data/brats/brats_training_data/data_raw/BraTS20_Training_243\n",
      "/srv/Data/playground_data/brats/brats_training_data/data_raw/BraTS20_Training_337\n",
      "/srv/Data/playground_data/brats/brats_training_data/data_raw/BraTS20_Training_112\n",
      "/srv/Data/playground_data/brats/brats_training_data/data_raw/BraTS20_Training_354\n",
      "/srv/Data/playground_data/brats/brats_training_data/data_raw/BraTS20_Training_144\n",
      "/srv/Data/playground_data/brats/brats_training_data/data_raw/BraTS20_Training_026\n",
      "/srv/Data/playground_data/brats/brats_training_data/data_raw/BraTS20_Training_293\n",
      "/srv/Data/playground_data/brats/brats_training_data/data_raw/BraTS20_Training_316\n",
      "/srv/Data/playground_data/brats/brats_training_data/data_raw/BraTS20_Training_133\n",
      "/srv/Data/playground_data/brats/brats_training_data/data_raw/BraTS20_Training_130\n",
      "/srv/Data/playground_data/brats/brats_training_data/data_raw/BraTS20_Training_187\n",
      "/srv/Data/playground_data/brats/brats_training_data/data_raw/BraTS20_Training_122\n",
      "/srv/Data/playground_data/brats/brats_training_data/data_raw/BraTS20_Training_002\n",
      "/srv/Data/playground_data/brats/brats_training_data/data_raw/BraTS20_Training_093\n",
      "/srv/Data/playground_data/brats/brats_training_data/data_raw/BraTS20_Training_322\n",
      "/srv/Data/playground_data/brats/brats_training_data/data_raw/BraTS20_Training_367\n",
      "/srv/Data/playground_data/brats/brats_training_data/data_raw/BraTS20_Training_268\n",
      "/srv/Data/playground_data/brats/brats_training_data/data_raw/BraTS20_Training_283\n",
      "/srv/Data/playground_data/brats/brats_training_data/data_raw/BraTS20_Training_221\n",
      "/srv/Data/playground_data/brats/brats_training_data/data_raw/BraTS20_Training_110\n",
      "/srv/Data/playground_data/brats/brats_training_data/data_raw/BraTS20_Training_022\n",
      "/srv/Data/playground_data/brats/brats_training_data/data_raw/BraTS20_Training_048\n",
      "/srv/Data/playground_data/brats/brats_training_data/data_raw/BraTS20_Training_183\n",
      "/srv/Data/playground_data/brats/brats_training_data/data_raw/BraTS20_Training_276\n",
      "/srv/Data/playground_data/brats/brats_training_data/data_raw/BraTS20_Training_286\n",
      "/srv/Data/playground_data/brats/brats_training_data/data_raw/BraTS20_Training_247\n",
      "/srv/Data/playground_data/brats/brats_training_data/data_raw/BraTS20_Training_138\n",
      "/srv/Data/playground_data/brats/brats_training_data/data_raw/BraTS20_Training_234\n",
      "/srv/Data/playground_data/brats/brats_training_data/data_raw/BraTS20_Training_080\n",
      "/srv/Data/playground_data/brats/brats_training_data/data_raw/BraTS20_Training_139\n",
      "/srv/Data/playground_data/brats/brats_training_data/data_raw/BraTS20_Training_147\n",
      "/srv/Data/playground_data/brats/brats_training_data/data_raw/BraTS20_Training_083\n"
     ]
    }
   ],
   "source": [
    "brats_datapath = '/srv/Data/playground_data/brats/brats_training_data/data_raw/**'\n",
    "masklist , datalist = [], []\n",
    "modality = ['t1', 't1ce', 't2', 'flair', 'seg']\n",
    "for x in glob.glob(brats_datapath):\n",
    "    print(x)\n",
    "    patient_file = dict()\n",
    "    i = np.random.randint(370)\n",
    "    patient_path = x \n",
    "    \n",
    "#     for i in range(len(modality)):\n",
    "        \n",
    "#     print(patient_path)\n",
    "\n",
    "#     if (x.split('/')[8].split('_')[-1]== 'seg.nii'):\n",
    "#           masklist.append({'label': x})\n",
    "#     else:\n",
    "#         modality = x.split('/')[8].split('_')[-1].split('.')[0]\n",
    "        \n",
    "        \n",
    "#         datalist.append({modality:x})"
   ]
  },
  {
   "cell_type": "code",
   "execution_count": null,
   "id": "1f88fbb5",
   "metadata": {},
   "outputs": [],
   "source": [
    "### next task is to not provide all images at once but as t1list, t2list ...."
   ]
  },
  {
   "cell_type": "code",
   "execution_count": null,
   "id": "178fc9b0",
   "metadata": {},
   "outputs": [],
   "source": []
  }
 ],
 "metadata": {
  "kernelspec": {
   "display_name": "Python 3 (ipykernel)",
   "language": "python",
   "name": "python3"
  },
  "language_info": {
   "codemirror_mode": {
    "name": "ipython",
    "version": 3
   },
   "file_extension": ".py",
   "mimetype": "text/x-python",
   "name": "python",
   "nbconvert_exporter": "python",
   "pygments_lexer": "ipython3",
   "version": "3.8.10"
  }
 },
 "nbformat": 4,
 "nbformat_minor": 5
}
