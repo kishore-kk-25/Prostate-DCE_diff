{
 "cells": [
  {
   "cell_type": "code",
   "execution_count": 3,
   "id": "4ad7370a-6e32-49c0-a9c3-a6201a8421f5",
   "metadata": {},
   "outputs": [
    {
     "data": {
      "text/plain": [
       "'/media/Data16T/Kishore/PALETTE/ddm_for_contrast/guided-diffusion_main/guided_diffusion_in'"
      ]
     },
     "execution_count": 3,
     "metadata": {},
     "output_type": "execute_result"
    }
   ],
   "source": [
    "pwd"
   ]
  },
  {
   "cell_type": "code",
   "execution_count": 2,
   "id": "d0fab332-6155-4c64-b7f0-be034a34a112",
   "metadata": {},
   "outputs": [],
   "source": [
    "import os,sys"
   ]
  },
  {
   "cell_type": "code",
   "execution_count": 3,
   "id": "e802d5c5-7f16-4a28-97ff-04940dd98403",
   "metadata": {},
   "outputs": [],
   "source": [
    "sys.path.append('/media/Data16T/Kishore/PALETTE/ddm_for_contrast/guided-diffusion_main/guided_diffusion_in')"
   ]
  },
  {
   "cell_type": "code",
   "execution_count": 5,
   "id": "44b0cd7e-fa86-439c-9096-3d9ca9b17151",
   "metadata": {},
   "outputs": [
    {
     "ename": "ImportError",
     "evalue": "attempted relative import with no known parent package",
     "output_type": "error",
     "traceback": [
      "\u001b[0;31m---------------------------------------------------------------------------\u001b[0m",
      "\u001b[0;31mImportError\u001b[0m                               Traceback (most recent call last)",
      "Cell \u001b[0;32mIn[5], line 1\u001b[0m\n\u001b[0;32m----> 1\u001b[0m \u001b[38;5;28;01mfrom\u001b[39;00m \u001b[38;5;21;01munet_SA\u001b[39;00m \u001b[38;5;28;01mimport\u001b[39;00m AttentionPool2d\n",
      "File \u001b[0;32m/media/Data16T/Kishore/PALETTE/ddm_for_contrast/guided-diffusion_main/guided_diffusion_in/unet_SA.py:10\u001b[0m\n\u001b[1;32m      7\u001b[0m \u001b[38;5;28;01mimport\u001b[39;00m \u001b[38;5;21;01mtorch\u001b[39;00m\u001b[38;5;21;01m.\u001b[39;00m\u001b[38;5;21;01mnn\u001b[39;00m \u001b[38;5;28;01mas\u001b[39;00m \u001b[38;5;21;01mnn\u001b[39;00m\n\u001b[1;32m      8\u001b[0m \u001b[38;5;28;01mimport\u001b[39;00m \u001b[38;5;21;01mtorch\u001b[39;00m\u001b[38;5;21;01m.\u001b[39;00m\u001b[38;5;21;01mnn\u001b[39;00m\u001b[38;5;21;01m.\u001b[39;00m\u001b[38;5;21;01mfunctional\u001b[39;00m \u001b[38;5;28;01mas\u001b[39;00m \u001b[38;5;21;01mF\u001b[39;00m\n\u001b[0;32m---> 10\u001b[0m \u001b[38;5;28;01mfrom\u001b[39;00m \u001b[38;5;21;01mfp16_util\u001b[39;00m \u001b[38;5;28;01mimport\u001b[39;00m convert_module_to_f16, convert_module_to_f32\n\u001b[1;32m     11\u001b[0m \u001b[38;5;28;01mfrom\u001b[39;00m \u001b[38;5;21;01mnn\u001b[39;00m \u001b[38;5;28;01mimport\u001b[39;00m (\n\u001b[1;32m     12\u001b[0m     checkpoint,\n\u001b[1;32m     13\u001b[0m     conv_nd,\n\u001b[0;32m   (...)\u001b[0m\n\u001b[1;32m     18\u001b[0m     timestep_embedding,\n\u001b[1;32m     19\u001b[0m )\n\u001b[1;32m     22\u001b[0m \u001b[38;5;28;01mclass\u001b[39;00m \u001b[38;5;21;01mAttentionPool2d\u001b[39;00m(nn\u001b[38;5;241m.\u001b[39mModule):\n",
      "File \u001b[0;32m/media/Data16T/Kishore/PALETTE/ddm_for_contrast/guided-diffusion_main/guided_diffusion_in/fp16_util.py:10\u001b[0m\n\u001b[1;32m      7\u001b[0m \u001b[38;5;28;01mimport\u001b[39;00m \u001b[38;5;21;01mtorch\u001b[39;00m\u001b[38;5;21;01m.\u001b[39;00m\u001b[38;5;21;01mnn\u001b[39;00m \u001b[38;5;28;01mas\u001b[39;00m \u001b[38;5;21;01mnn\u001b[39;00m\n\u001b[1;32m      8\u001b[0m \u001b[38;5;28;01mfrom\u001b[39;00m \u001b[38;5;21;01mtorch\u001b[39;00m\u001b[38;5;21;01m.\u001b[39;00m\u001b[38;5;21;01m_utils\u001b[39;00m \u001b[38;5;28;01mimport\u001b[39;00m _flatten_dense_tensors, _unflatten_dense_tensors\n\u001b[0;32m---> 10\u001b[0m \u001b[38;5;28;01mfrom\u001b[39;00m \u001b[38;5;21;01m.\u001b[39;00m \u001b[38;5;28;01mimport\u001b[39;00m logger\n\u001b[1;32m     12\u001b[0m INITIAL_LOG_LOSS_SCALE \u001b[38;5;241m=\u001b[39m \u001b[38;5;241m20.0\u001b[39m\n\u001b[1;32m     15\u001b[0m \u001b[38;5;28;01mdef\u001b[39;00m \u001b[38;5;21mconvert_module_to_f16\u001b[39m(l):\n",
      "\u001b[0;31mImportError\u001b[0m: attempted relative import with no known parent package"
     ]
    }
   ],
   "source": [
    "from unet_SA import AttentionPool2d"
   ]
  },
  {
   "cell_type": "code",
   "execution_count": null,
   "id": "81236ae7-fd2b-4d82-9d9f-c169eed66ce3",
   "metadata": {},
   "outputs": [],
   "source": []
  },
  {
   "cell_type": "code",
   "execution_count": null,
   "id": "52cc344e-74a4-42d0-ad5b-3a844f530abd",
   "metadata": {},
   "outputs": [],
   "source": []
  }
 ],
 "metadata": {
  "kernelspec": {
   "display_name": "Python 3 (ipykernel)",
   "language": "python",
   "name": "python3"
  },
  "language_info": {
   "codemirror_mode": {
    "name": "ipython",
    "version": 3
   },
   "file_extension": ".py",
   "mimetype": "text/x-python",
   "name": "python",
   "nbconvert_exporter": "python",
   "pygments_lexer": "ipython3",
   "version": "3.8.10"
  }
 },
 "nbformat": 4,
 "nbformat_minor": 5
}
